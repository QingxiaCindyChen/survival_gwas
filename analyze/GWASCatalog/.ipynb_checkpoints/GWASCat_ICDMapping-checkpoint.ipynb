{
 "cells": [
  {
   "cell_type": "code",
   "execution_count": 1,
   "metadata": {},
   "outputs": [],
   "source": [
    "#Objective - pull the ICD9 text from the GWAS catalog URLs, then use the latest phecode mapping\n",
    "#Inputs - gwas_catalog_v1.0.2-associations.tsv, phecode_icd9_rolled.csv\n",
    "#Outputs - GWASCatalog_ICD9_Mapped.csv"
   ]
  },
  {
   "cell_type": "code",
   "execution_count": 10,
   "metadata": {},
   "outputs": [],
   "source": [
    "import pandas as pd\n",
    "import numpy as np\n",
    "from urllib import request\n",
    "import urllib, re, gc, requests\n",
    "from pathos.helpers import mp"
   ]
  },
  {
   "cell_type": "code",
   "execution_count": 8,
   "metadata": {},
   "outputs": [
    {
     "name": "stderr",
     "output_type": "stream",
     "text": [
      "/Users/srhoades/anaconda/lib/python3.6/site-packages/IPython/core/interactiveshell.py:2728: DtypeWarning: Columns (23,27) have mixed types. Specify dtype option on import or set low_memory=False.\n",
      "  interactivity=interactivity, compiler=compiler, result=result)\n"
     ]
    }
   ],
   "source": [
    "GWASCat = pd.read_table('gwas_catalog_v1.0.2-associations.tsv')\n",
    "GWASCat = GWASCat[~(GWASCat.MAPPED_TRAIT_URI.astype(str)=='nan')]"
   ]
  },
  {
   "cell_type": "code",
   "execution_count": 9,
   "metadata": {},
   "outputs": [
    {
     "data": {
      "text/html": [
       "<div>\n",
       "<style scoped>\n",
       "    .dataframe tbody tr th:only-of-type {\n",
       "        vertical-align: middle;\n",
       "    }\n",
       "\n",
       "    .dataframe tbody tr th {\n",
       "        vertical-align: top;\n",
       "    }\n",
       "\n",
       "    .dataframe thead th {\n",
       "        text-align: right;\n",
       "    }\n",
       "</style>\n",
       "<table border=\"1\" class=\"dataframe\">\n",
       "  <thead>\n",
       "    <tr style=\"text-align: right;\">\n",
       "      <th></th>\n",
       "      <th>DATE ADDED TO CATALOG</th>\n",
       "      <th>PUBMEDID</th>\n",
       "      <th>FIRST AUTHOR</th>\n",
       "      <th>DATE</th>\n",
       "      <th>JOURNAL</th>\n",
       "      <th>LINK</th>\n",
       "      <th>STUDY</th>\n",
       "      <th>DISEASE/TRAIT</th>\n",
       "      <th>INITIAL SAMPLE SIZE</th>\n",
       "      <th>REPLICATION SAMPLE SIZE</th>\n",
       "      <th>...</th>\n",
       "      <th>PVALUE_MLOG</th>\n",
       "      <th>P-VALUE (TEXT)</th>\n",
       "      <th>OR or BETA</th>\n",
       "      <th>95% CI (TEXT)</th>\n",
       "      <th>PLATFORM [SNPS PASSING QC]</th>\n",
       "      <th>CNV</th>\n",
       "      <th>MAPPED_TRAIT</th>\n",
       "      <th>MAPPED_TRAIT_URI</th>\n",
       "      <th>STUDY ACCESSION</th>\n",
       "      <th>GENOTYPING TECHNOLOGY</th>\n",
       "    </tr>\n",
       "  </thead>\n",
       "  <tbody>\n",
       "    <tr>\n",
       "      <th>0</th>\n",
       "      <td>2016-02-03</td>\n",
       "      <td>25778476</td>\n",
       "      <td>Jun G</td>\n",
       "      <td>2015-03-17</td>\n",
       "      <td>Mol Psychiatry</td>\n",
       "      <td>www.ncbi.nlm.nih.gov/pubmed/25778476</td>\n",
       "      <td>A novel Alzheimer disease locus located near t...</td>\n",
       "      <td>Alzheimer's disease in APOE e4- carriers</td>\n",
       "      <td>7,184 cases, 26,968 controls</td>\n",
       "      <td>718 European ancestry cases, 1,699 European an...</td>\n",
       "      <td>...</td>\n",
       "      <td>6.045757</td>\n",
       "      <td>NaN</td>\n",
       "      <td>1.47</td>\n",
       "      <td>[1.26-1.71]</td>\n",
       "      <td>NR [NR]</td>\n",
       "      <td>N</td>\n",
       "      <td>Alzheimers disease</td>\n",
       "      <td>http://www.ebi.ac.uk/efo/EFO_0000249</td>\n",
       "      <td>GCST002817</td>\n",
       "      <td>Genome-wide genotyping array</td>\n",
       "    </tr>\n",
       "    <tr>\n",
       "      <th>1</th>\n",
       "      <td>2016-02-03</td>\n",
       "      <td>25778476</td>\n",
       "      <td>Jun G</td>\n",
       "      <td>2015-03-17</td>\n",
       "      <td>Mol Psychiatry</td>\n",
       "      <td>www.ncbi.nlm.nih.gov/pubmed/25778476</td>\n",
       "      <td>A novel Alzheimer disease locus located near t...</td>\n",
       "      <td>Alzheimer's disease in APOE e4- carriers</td>\n",
       "      <td>7,184 cases, 26,968 controls</td>\n",
       "      <td>718 European ancestry cases, 1,699 European an...</td>\n",
       "      <td>...</td>\n",
       "      <td>5.522879</td>\n",
       "      <td>NaN</td>\n",
       "      <td>1.20</td>\n",
       "      <td>[1.11-1.29]</td>\n",
       "      <td>NR [NR]</td>\n",
       "      <td>N</td>\n",
       "      <td>Alzheimers disease</td>\n",
       "      <td>http://www.ebi.ac.uk/efo/EFO_0000249</td>\n",
       "      <td>GCST002817</td>\n",
       "      <td>Genome-wide genotyping array</td>\n",
       "    </tr>\n",
       "    <tr>\n",
       "      <th>2</th>\n",
       "      <td>2016-02-03</td>\n",
       "      <td>25778476</td>\n",
       "      <td>Jun G</td>\n",
       "      <td>2015-03-17</td>\n",
       "      <td>Mol Psychiatry</td>\n",
       "      <td>www.ncbi.nlm.nih.gov/pubmed/25778476</td>\n",
       "      <td>A novel Alzheimer disease locus located near t...</td>\n",
       "      <td>Alzheimer's disease in APOE e4+ carriers</td>\n",
       "      <td>10,352 cases, 9,207 controls</td>\n",
       "      <td>1,250 European ancestry cases, 536 European an...</td>\n",
       "      <td>...</td>\n",
       "      <td>8.397940</td>\n",
       "      <td>NaN</td>\n",
       "      <td>1.22</td>\n",
       "      <td>[1.14-1.30]</td>\n",
       "      <td>NR [NR]</td>\n",
       "      <td>N</td>\n",
       "      <td>Alzheimers disease</td>\n",
       "      <td>http://www.ebi.ac.uk/efo/EFO_0000249</td>\n",
       "      <td>GCST002813</td>\n",
       "      <td>Genome-wide genotyping array</td>\n",
       "    </tr>\n",
       "    <tr>\n",
       "      <th>3</th>\n",
       "      <td>2016-02-03</td>\n",
       "      <td>25778476</td>\n",
       "      <td>Jun G</td>\n",
       "      <td>2015-03-17</td>\n",
       "      <td>Mol Psychiatry</td>\n",
       "      <td>www.ncbi.nlm.nih.gov/pubmed/25778476</td>\n",
       "      <td>A novel Alzheimer disease locus located near t...</td>\n",
       "      <td>Alzheimer's disease in APOE e4+ carriers</td>\n",
       "      <td>10,352 cases, 9,207 controls</td>\n",
       "      <td>1,250 European ancestry cases, 536 European an...</td>\n",
       "      <td>...</td>\n",
       "      <td>9.000000</td>\n",
       "      <td>NaN</td>\n",
       "      <td>1.20</td>\n",
       "      <td>[1.13-1.27]</td>\n",
       "      <td>NR [NR]</td>\n",
       "      <td>N</td>\n",
       "      <td>Alzheimers disease</td>\n",
       "      <td>http://www.ebi.ac.uk/efo/EFO_0000249</td>\n",
       "      <td>GCST002813</td>\n",
       "      <td>Genome-wide genotyping array</td>\n",
       "    </tr>\n",
       "    <tr>\n",
       "      <th>4</th>\n",
       "      <td>2016-02-03</td>\n",
       "      <td>25778476</td>\n",
       "      <td>Jun G</td>\n",
       "      <td>2015-03-17</td>\n",
       "      <td>Mol Psychiatry</td>\n",
       "      <td>www.ncbi.nlm.nih.gov/pubmed/25778476</td>\n",
       "      <td>A novel Alzheimer disease locus located near t...</td>\n",
       "      <td>Alzheimer's disease in APOE e4+ carriers</td>\n",
       "      <td>10,352 cases, 9,207 controls</td>\n",
       "      <td>1,250 European ancestry cases, 536 European an...</td>\n",
       "      <td>...</td>\n",
       "      <td>5.397940</td>\n",
       "      <td>NaN</td>\n",
       "      <td>1.16</td>\n",
       "      <td>[1.09-1.23]</td>\n",
       "      <td>NR [NR]</td>\n",
       "      <td>N</td>\n",
       "      <td>Alzheimers disease</td>\n",
       "      <td>http://www.ebi.ac.uk/efo/EFO_0000249</td>\n",
       "      <td>GCST002813</td>\n",
       "      <td>Genome-wide genotyping array</td>\n",
       "    </tr>\n",
       "  </tbody>\n",
       "</table>\n",
       "<p>5 rows × 38 columns</p>\n",
       "</div>"
      ],
      "text/plain": [
       "  DATE ADDED TO CATALOG  PUBMEDID FIRST AUTHOR        DATE         JOURNAL  \\\n",
       "0            2016-02-03  25778476        Jun G  2015-03-17  Mol Psychiatry   \n",
       "1            2016-02-03  25778476        Jun G  2015-03-17  Mol Psychiatry   \n",
       "2            2016-02-03  25778476        Jun G  2015-03-17  Mol Psychiatry   \n",
       "3            2016-02-03  25778476        Jun G  2015-03-17  Mol Psychiatry   \n",
       "4            2016-02-03  25778476        Jun G  2015-03-17  Mol Psychiatry   \n",
       "\n",
       "                                   LINK  \\\n",
       "0  www.ncbi.nlm.nih.gov/pubmed/25778476   \n",
       "1  www.ncbi.nlm.nih.gov/pubmed/25778476   \n",
       "2  www.ncbi.nlm.nih.gov/pubmed/25778476   \n",
       "3  www.ncbi.nlm.nih.gov/pubmed/25778476   \n",
       "4  www.ncbi.nlm.nih.gov/pubmed/25778476   \n",
       "\n",
       "                                               STUDY  \\\n",
       "0  A novel Alzheimer disease locus located near t...   \n",
       "1  A novel Alzheimer disease locus located near t...   \n",
       "2  A novel Alzheimer disease locus located near t...   \n",
       "3  A novel Alzheimer disease locus located near t...   \n",
       "4  A novel Alzheimer disease locus located near t...   \n",
       "\n",
       "                              DISEASE/TRAIT           INITIAL SAMPLE SIZE  \\\n",
       "0  Alzheimer's disease in APOE e4- carriers  7,184 cases, 26,968 controls   \n",
       "1  Alzheimer's disease in APOE e4- carriers  7,184 cases, 26,968 controls   \n",
       "2  Alzheimer's disease in APOE e4+ carriers  10,352 cases, 9,207 controls   \n",
       "3  Alzheimer's disease in APOE e4+ carriers  10,352 cases, 9,207 controls   \n",
       "4  Alzheimer's disease in APOE e4+ carriers  10,352 cases, 9,207 controls   \n",
       "\n",
       "                             REPLICATION SAMPLE SIZE  \\\n",
       "0  718 European ancestry cases, 1,699 European an...   \n",
       "1  718 European ancestry cases, 1,699 European an...   \n",
       "2  1,250 European ancestry cases, 536 European an...   \n",
       "3  1,250 European ancestry cases, 536 European an...   \n",
       "4  1,250 European ancestry cases, 536 European an...   \n",
       "\n",
       "               ...              PVALUE_MLOG P-VALUE (TEXT) OR or BETA  \\\n",
       "0              ...                 6.045757            NaN       1.47   \n",
       "1              ...                 5.522879            NaN       1.20   \n",
       "2              ...                 8.397940            NaN       1.22   \n",
       "3              ...                 9.000000            NaN       1.20   \n",
       "4              ...                 5.397940            NaN       1.16   \n",
       "\n",
       "  95% CI (TEXT) PLATFORM [SNPS PASSING QC]  CNV        MAPPED_TRAIT  \\\n",
       "0   [1.26-1.71]                    NR [NR]    N  Alzheimers disease   \n",
       "1   [1.11-1.29]                    NR [NR]    N  Alzheimers disease   \n",
       "2   [1.14-1.30]                    NR [NR]    N  Alzheimers disease   \n",
       "3   [1.13-1.27]                    NR [NR]    N  Alzheimers disease   \n",
       "4   [1.09-1.23]                    NR [NR]    N  Alzheimers disease   \n",
       "\n",
       "                       MAPPED_TRAIT_URI  STUDY ACCESSION  \\\n",
       "0  http://www.ebi.ac.uk/efo/EFO_0000249       GCST002817   \n",
       "1  http://www.ebi.ac.uk/efo/EFO_0000249       GCST002817   \n",
       "2  http://www.ebi.ac.uk/efo/EFO_0000249       GCST002813   \n",
       "3  http://www.ebi.ac.uk/efo/EFO_0000249       GCST002813   \n",
       "4  http://www.ebi.ac.uk/efo/EFO_0000249       GCST002813   \n",
       "\n",
       "          GENOTYPING TECHNOLOGY  \n",
       "0  Genome-wide genotyping array  \n",
       "1  Genome-wide genotyping array  \n",
       "2  Genome-wide genotyping array  \n",
       "3  Genome-wide genotyping array  \n",
       "4  Genome-wide genotyping array  \n",
       "\n",
       "[5 rows x 38 columns]"
      ]
     },
     "execution_count": 9,
     "metadata": {},
     "output_type": "execute_result"
    }
   ],
   "source": [
    "GWASCat.head()"
   ]
  },
  {
   "cell_type": "code",
   "execution_count": 10,
   "metadata": {},
   "outputs": [],
   "source": [
    "#workaround to str.split() - @https://stackoverflow.com/questions/12680754/split-explode-pandas-dataframe-string-entry-to-separate-rows/40449726\n",
    "def explode(df, lst_cols, fill_value=''):\n",
    "    # make sure `lst_cols` is a list\n",
    "    if lst_cols and not isinstance(lst_cols, list):\n",
    "        lst_cols = [lst_cols]\n",
    "    # all columns except `lst_cols`\n",
    "    idx_cols = df.columns.difference(lst_cols)\n",
    "\n",
    "    # calculate lengths of lists\n",
    "    lens = df[lst_cols[0]].str.len()\n",
    "\n",
    "    if (lens > 0).all():\n",
    "        # ALL lists in cells aren't empty\n",
    "        return pd.DataFrame({\n",
    "            col:np.repeat(df[col].values, lens)\n",
    "            for col in idx_cols\n",
    "        }).assign(**{col:np.concatenate(df[col].values) for col in lst_cols}) \\\n",
    "          .loc[:, df.columns]\n",
    "    else:\n",
    "        # at least one list in cells is empty\n",
    "        return pd.DataFrame({\n",
    "            col:np.repeat(df[col].values, lens)\n",
    "            for col in idx_cols\n",
    "        }).assign(**{col:np.concatenate(df[col].values) for col in lst_cols}) \\\n",
    "          .append(df.loc[lens==0, idx_cols]).fillna(fill_value) \\\n",
    "          .loc[:, df.columns]"
   ]
  },
  {
   "cell_type": "code",
   "execution_count": 3,
   "metadata": {},
   "outputs": [],
   "source": [
    "def ICDDictMap(URLList):\n",
    "    DictOut = dict()\n",
    "    for url in URLList:\n",
    "        #Multiple URLs may exist.. split into list and find all ICDs within\n",
    "        Suburl = re.split('\\,', url)\n",
    "        Suburl = [re.sub(' ', '', x) for x in Suburl]\n",
    "        minilist = []\n",
    "        for suburl in Suburl:\n",
    "            urlopen = urllib.request.urlopen(suburl)\n",
    "            results = str(urlopen.read())\n",
    "            ICDs = re.findall('ICD9:(\\d+?\\.\\d+)', results)\n",
    "            minilist.append(ICDs)\n",
    "        DictOut[url] = minilist[0]\n",
    "    return(DictOut)"
   ]
  },
  {
   "cell_type": "code",
   "execution_count": 104,
   "metadata": {},
   "outputs": [
    {
     "data": {
      "text/plain": [
       "1119"
      ]
     },
     "execution_count": 104,
     "metadata": {},
     "output_type": "execute_result"
    }
   ],
   "source": [
    "CoreNum = 20\n",
    "\n",
    "URLs = list(set(GWASCat.MAPPED_TRAIT_URI))\n",
    "URLs = [x for x in URLs if str(x)!='nan']\n",
    "\n",
    "GWASCatDictList = []\n",
    "URLSplit = list(np.array_split(URLs, CoreNum))\n",
    "\n",
    "pooler=mp.Pool(CoreNum)\n",
    "\n",
    "for result in pooler.imap(ICDDictMap, URLSplit):\n",
    "    GWASCatDictList.append(result)\n",
    "    \n",
    "pooler.close()\n",
    "pooler.join()\n",
    "gc.collect()"
   ]
  },
  {
   "cell_type": "code",
   "execution_count": 5,
   "metadata": {},
   "outputs": [],
   "source": [
    "#Say you have list of dictionaries\n",
    "FinalDict = dict()\n",
    "for d in GWASCatDictList:\n",
    "    FinalDict.update(d)"
   ]
  },
  {
   "cell_type": "code",
   "execution_count": null,
   "metadata": {},
   "outputs": [],
   "source": [
    "GWASCat['ICD'] = [FinalDict[x] for x in GWASCat['MAPPED_TRAIT_URI']]"
   ]
  },
  {
   "cell_type": "code",
   "execution_count": null,
   "metadata": {},
   "outputs": [],
   "source": [
    "GWASCat = explode(GWASCat, ['ICD'], fill_value='')\n",
    "GWASCat.reset_index(inplace=True)\n",
    "del GWASCat['index']"
   ]
  },
  {
   "cell_type": "code",
   "execution_count": null,
   "metadata": {},
   "outputs": [],
   "source": [
    "GWASCat.to_csv('GWASCatalog_ICD9_Mapped.csv')"
   ]
  },
  {
   "cell_type": "code",
   "execution_count": null,
   "metadata": {},
   "outputs": [],
   "source": []
  },
  {
   "cell_type": "code",
   "execution_count": null,
   "metadata": {},
   "outputs": [],
   "source": []
  },
  {
   "cell_type": "code",
   "execution_count": null,
   "metadata": {},
   "outputs": [],
   "source": [
    "#Slow/old way below"
   ]
  },
  {
   "cell_type": "code",
   "execution_count": 41,
   "metadata": {},
   "outputs": [],
   "source": [
    "#def ICDMap(DF):\n",
    "#    url = DF.MAPPED_TRAIT_URI\n",
    "#    urlopen = urllib.request.urlopen(url)\n",
    "#    results = str(urlopen.read())\n",
    "#    ICDs = re.findall('ICD9:(\\d+?\\.\\d+)', results)\n",
    "#    DF['ICDs'] = ICDs\n",
    "#    return(DF)"
   ]
  },
  {
   "cell_type": "code",
   "execution_count": 44,
   "metadata": {},
   "outputs": [],
   "source": [
    "#def ApplyWrap(DF):\n",
    "#    return(DF.apply(ICDMap, axis = 1))"
   ]
  },
  {
   "cell_type": "code",
   "execution_count": 119,
   "metadata": {},
   "outputs": [],
   "source": [
    "#mini = GWASCat[0:100]\n",
    "#CoreNum = 4\n",
    "\n",
    "#GWASCatList = []\n",
    "#GWASSplit = list(np.array_split(mini, CoreNum))\n",
    "\n",
    "#pooler=mp.Pool(CoreNum)\n",
    "\n",
    "#for result in pooler.imap(ApplyWrap, GWASSplit):\n",
    "#    GWASCatList.append(result)\n",
    "    \n",
    "#pooler.close()\n",
    "#pooler.join()\n",
    "#gc.collect()"
   ]
  },
  {
   "cell_type": "code",
   "execution_count": 80,
   "metadata": {},
   "outputs": [],
   "source": [
    "#mini = GWASCat[0:1000]"
   ]
  },
  {
   "cell_type": "code",
   "execution_count": 180,
   "metadata": {},
   "outputs": [],
   "source": [
    "#%%time\n",
    "##Guaranteed to be faster.. dictionary of a url to ICD - 3min per 1000 rows\n",
    "#URLMap = dict()\n",
    "#URLs = list(set(mini.MAPPED_TRAIT_URI))\n",
    "#URLs = [x for x in URLs if str(x)!='nan']\n",
    "#for url in URLs:\n",
    "    #Multiple URLs may exist.. split into list and find all ICDs within\n",
    "#    Suburl = re.split('\\,', url)\n",
    "#    Suburl = [re.sub(' ', '', x) for x in Suburl]\n",
    "#    minilist = []\n",
    "#    for suburl in Suburl:\n",
    "#        urlopen = urllib.request.urlopen(suburl)\n",
    "#        results = str(urlopen.read())\n",
    "#        ICDs = re.findall('ICD9:(\\d+?\\.\\d+)', results)\n",
    "#        minilist.append(ICDs)\n",
    "#    URLMap[url] = minilist[0]"
   ]
  },
  {
   "cell_type": "code",
   "execution_count": null,
   "metadata": {},
   "outputs": [],
   "source": [
    "#Do phecode mapping in R instead"
   ]
  },
  {
   "cell_type": "code",
   "execution_count": 111,
   "metadata": {},
   "outputs": [],
   "source": [
    "#Phecode map\n",
    "#phemap = pd.read_csv('phecode_icd9_rolled.csv')\n",
    "#phedict = dict(zip(phemap.ICD9, phemap.PheCode))"
   ]
  },
  {
   "cell_type": "code",
   "execution_count": 126,
   "metadata": {},
   "outputs": [],
   "source": [
    "#def ICDPhecodeMap(DF):\n",
    "#    phecodemap = []\n",
    "#    for icd in DF.ICD:\n",
    "#        try:\n",
    "#            addme = phedict[icd]\n",
    "#            phecodemap.append(addme)\n",
    "#       except:\n",
    "#            continue\n",
    "    #phecodemap = [phedict[x] for x in DF.ICD]\n",
    "#    DF['Phecode'] = phecodemap\n",
    "#    return(DF)"
   ]
  },
  {
   "cell_type": "code",
   "execution_count": 118,
   "metadata": {},
   "outputs": [],
   "source": [
    "#GWASCat = GWASCat.apply(ICDPhecodeMap, axis = 1)"
   ]
  },
  {
   "cell_type": "code",
   "execution_count": null,
   "metadata": {},
   "outputs": [],
   "source": [
    "#GWASCat.to_csv('GWASCatalog_ICD9_Phecode_Mapped.csv')"
   ]
  },
  {
   "cell_type": "code",
   "execution_count": null,
   "metadata": {},
   "outputs": [],
   "source": []
  }
 ],
 "metadata": {
  "kernelspec": {
   "display_name": "Python 3",
   "language": "python",
   "name": "python3"
  },
  "language_info": {
   "codemirror_mode": {
    "name": "ipython",
    "version": 3
   },
   "file_extension": ".py",
   "mimetype": "text/x-python",
   "name": "python",
   "nbconvert_exporter": "python",
   "pygments_lexer": "ipython3",
   "version": "3.6.3"
  }
 },
 "nbformat": 4,
 "nbformat_minor": 2
}
