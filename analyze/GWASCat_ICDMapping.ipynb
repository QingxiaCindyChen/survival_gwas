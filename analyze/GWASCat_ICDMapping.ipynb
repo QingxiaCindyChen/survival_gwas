{
 "cells": [
  {
   "cell_type": "code",
   "execution_count": 1,
   "metadata": {},
   "outputs": [],
   "source": [
    "#Objective - pull the ICD9 text from the GWAS catalog URLs, then use the latest phecode mapping\n",
    "#Inputs - gwas_catalog_v1.0.2-associations.tsv, phecode_icd9_rolled.csv\n",
    "#Outputs - GWASCatalog_ICD9_Mapped.csv"
   ]
  },
  {
   "cell_type": "code",
   "execution_count": 1,
   "metadata": {},
   "outputs": [],
   "source": [
    "import pandas as pd\n",
    "import numpy as np\n",
    "from urllib import request\n",
    "import urllib, re, gc\n",
    "from pathos.helpers import mp"
   ]
  },
  {
   "cell_type": "code",
   "execution_count": 2,
   "metadata": {},
   "outputs": [
    {
     "name": "stderr",
     "output_type": "stream",
     "text": [
      "/Users/srhoades/anaconda/lib/python3.6/site-packages/IPython/core/interactiveshell.py:2728: DtypeWarning: Columns (23,27) have mixed types. Specify dtype option on import or set low_memory=False.\n",
      "  interactivity=interactivity, compiler=compiler, result=result)\n"
     ]
    }
   ],
   "source": [
    "GWASCat = pd.read_table('gwas_catalog_v1.0.2-associations.tsv')\n",
    "GWASCat = GWASCat[~(GWASCat.MAPPED_TRAIT_URI.astype(str)=='nan')]"
   ]
  },
  {
   "cell_type": "code",
   "execution_count": 10,
   "metadata": {},
   "outputs": [],
   "source": [
    "#workaround to str.split() - @https://stackoverflow.com/questions/12680754/split-explode-pandas-dataframe-string-entry-to-separate-rows/40449726\n",
    "def explode(df, lst_cols, fill_value=''):\n",
    "    # make sure `lst_cols` is a list\n",
    "    if lst_cols and not isinstance(lst_cols, list):\n",
    "        lst_cols = [lst_cols]\n",
    "    # all columns except `lst_cols`\n",
    "    idx_cols = df.columns.difference(lst_cols)\n",
    "\n",
    "    # calculate lengths of lists\n",
    "    lens = df[lst_cols[0]].str.len()\n",
    "\n",
    "    if (lens > 0).all():\n",
    "        # ALL lists in cells aren't empty\n",
    "        return pd.DataFrame({\n",
    "            col:np.repeat(df[col].values, lens)\n",
    "            for col in idx_cols\n",
    "        }).assign(**{col:np.concatenate(df[col].values) for col in lst_cols}) \\\n",
    "          .loc[:, df.columns]\n",
    "    else:\n",
    "        # at least one list in cells is empty\n",
    "        return pd.DataFrame({\n",
    "            col:np.repeat(df[col].values, lens)\n",
    "            for col in idx_cols\n",
    "        }).assign(**{col:np.concatenate(df[col].values) for col in lst_cols}) \\\n",
    "          .append(df.loc[lens==0, idx_cols]).fillna(fill_value) \\\n",
    "          .loc[:, df.columns]"
   ]
  },
  {
   "cell_type": "code",
   "execution_count": 3,
   "metadata": {},
   "outputs": [],
   "source": [
    "def ICDDictMap(URLList):\n",
    "    DictOut = dict()\n",
    "    for url in URLList:\n",
    "        #Multiple URLs may exist.. split into list and find all ICDs within\n",
    "        Suburl = re.split('\\,', url)\n",
    "        Suburl = [re.sub(' ', '', x) for x in Suburl]\n",
    "        minilist = []\n",
    "        for suburl in Suburl:\n",
    "            urlopen = urllib.request.urlopen(suburl)\n",
    "            results = str(urlopen.read())\n",
    "            ICDs = re.findall('ICD9:(\\d+?\\.\\d+)', results)\n",
    "            minilist.append(ICDs)\n",
    "        DictOut[url] = minilist[0]\n",
    "    return(DictOut)"
   ]
  },
  {
   "cell_type": "code",
   "execution_count": 104,
   "metadata": {},
   "outputs": [
    {
     "data": {
      "text/plain": [
       "1119"
      ]
     },
     "execution_count": 104,
     "metadata": {},
     "output_type": "execute_result"
    }
   ],
   "source": [
    "CoreNum = 20\n",
    "\n",
    "URLs = list(set(GWASCat.MAPPED_TRAIT_URI))\n",
    "URLs = [x for x in URLs if str(x)!='nan']\n",
    "\n",
    "GWASCatDictList = []\n",
    "URLSplit = list(np.array_split(URLs, CoreNum))\n",
    "\n",
    "pooler=mp.Pool(CoreNum)\n",
    "\n",
    "for result in pooler.imap(ICDDictMap, URLSplit):\n",
    "    GWASCatDictList.append(result)\n",
    "    \n",
    "pooler.close()\n",
    "pooler.join()\n",
    "gc.collect()"
   ]
  },
  {
   "cell_type": "code",
   "execution_count": 5,
   "metadata": {},
   "outputs": [],
   "source": [
    "#Say you have list of dictionaries\n",
    "FinalDict = dict()\n",
    "for d in GWASCatDictList:\n",
    "    FinalDict.update(d)"
   ]
  },
  {
   "cell_type": "code",
   "execution_count": null,
   "metadata": {},
   "outputs": [],
   "source": [
    "GWASCat['ICD'] = [FinalDict[x] for x in GWASCat['MAPPED_TRAIT_URI']]"
   ]
  },
  {
   "cell_type": "code",
   "execution_count": null,
   "metadata": {},
   "outputs": [],
   "source": [
    "GWASCat = explode(GWASCat, ['ICD'], fill_value='')\n",
    "GWASCat.reset_index(inplace=True)\n",
    "del GWASCat['index']"
   ]
  },
  {
   "cell_type": "code",
   "execution_count": null,
   "metadata": {},
   "outputs": [],
   "source": [
    "GWASCat.to_csv('GWASCatalog_ICD9_Mapped.csv')"
   ]
  },
  {
   "cell_type": "code",
   "execution_count": null,
   "metadata": {},
   "outputs": [],
   "source": []
  },
  {
   "cell_type": "code",
   "execution_count": 176,
   "metadata": {},
   "outputs": [],
   "source": []
  },
  {
   "cell_type": "code",
   "execution_count": null,
   "metadata": {},
   "outputs": [],
   "source": [
    "#Slow/old way below"
   ]
  },
  {
   "cell_type": "code",
   "execution_count": 41,
   "metadata": {},
   "outputs": [],
   "source": [
    "#def ICDMap(DF):\n",
    "#    url = DF.MAPPED_TRAIT_URI\n",
    "#    urlopen = urllib.request.urlopen(url)\n",
    "#    results = str(urlopen.read())\n",
    "#    ICDs = re.findall('ICD9:(\\d+?\\.\\d+)', results)\n",
    "#    DF['ICDs'] = ICDs\n",
    "#    return(DF)"
   ]
  },
  {
   "cell_type": "code",
   "execution_count": 44,
   "metadata": {},
   "outputs": [],
   "source": [
    "#def ApplyWrap(DF):\n",
    "#    return(DF.apply(ICDMap, axis = 1))"
   ]
  },
  {
   "cell_type": "code",
   "execution_count": 119,
   "metadata": {},
   "outputs": [],
   "source": [
    "#mini = GWASCat[0:100]\n",
    "#CoreNum = 4\n",
    "\n",
    "#GWASCatList = []\n",
    "#GWASSplit = list(np.array_split(mini, CoreNum))\n",
    "\n",
    "#pooler=mp.Pool(CoreNum)\n",
    "\n",
    "#for result in pooler.imap(ApplyWrap, GWASSplit):\n",
    "#    GWASCatList.append(result)\n",
    "    \n",
    "#pooler.close()\n",
    "#pooler.join()\n",
    "#gc.collect()"
   ]
  },
  {
   "cell_type": "code",
   "execution_count": 80,
   "metadata": {},
   "outputs": [],
   "source": [
    "#mini = GWASCat[0:1000]"
   ]
  },
  {
   "cell_type": "code",
   "execution_count": 180,
   "metadata": {},
   "outputs": [],
   "source": [
    "#%%time\n",
    "##Guaranteed to be faster.. dictionary of a url to ICD - 3min per 1000 rows\n",
    "#URLMap = dict()\n",
    "#URLs = list(set(mini.MAPPED_TRAIT_URI))\n",
    "#URLs = [x for x in URLs if str(x)!='nan']\n",
    "#for url in URLs:\n",
    "    #Multiple URLs may exist.. split into list and find all ICDs within\n",
    "#    Suburl = re.split('\\,', url)\n",
    "#    Suburl = [re.sub(' ', '', x) for x in Suburl]\n",
    "#    minilist = []\n",
    "#    for suburl in Suburl:\n",
    "#        urlopen = urllib.request.urlopen(suburl)\n",
    "#        results = str(urlopen.read())\n",
    "#        ICDs = re.findall('ICD9:(\\d+?\\.\\d+)', results)\n",
    "#        minilist.append(ICDs)\n",
    "#    URLMap[url] = minilist[0]"
   ]
  },
  {
   "cell_type": "code",
   "execution_count": null,
   "metadata": {},
   "outputs": [],
   "source": [
    "#Do phecode mapping in R instead"
   ]
  },
  {
   "cell_type": "code",
   "execution_count": 111,
   "metadata": {},
   "outputs": [],
   "source": [
    "#Phecode map\n",
    "#phemap = pd.read_csv('phecode_icd9_rolled.csv')\n",
    "#phedict = dict(zip(phemap.ICD9, phemap.PheCode))"
   ]
  },
  {
   "cell_type": "code",
   "execution_count": 126,
   "metadata": {},
   "outputs": [],
   "source": [
    "#def ICDPhecodeMap(DF):\n",
    "#    phecodemap = []\n",
    "#    for icd in DF.ICD:\n",
    "#        try:\n",
    "#            addme = phedict[icd]\n",
    "#            phecodemap.append(addme)\n",
    "#       except:\n",
    "#            continue\n",
    "    #phecodemap = [phedict[x] for x in DF.ICD]\n",
    "#    DF['Phecode'] = phecodemap\n",
    "#    return(DF)"
   ]
  },
  {
   "cell_type": "code",
   "execution_count": 118,
   "metadata": {},
   "outputs": [],
   "source": [
    "#GWASCat = GWASCat.apply(ICDPhecodeMap, axis = 1)"
   ]
  },
  {
   "cell_type": "code",
   "execution_count": null,
   "metadata": {},
   "outputs": [],
   "source": [
    "#GWASCat.to_csv('GWASCatalog_ICD9_Phecode_Mapped.csv')"
   ]
  },
  {
   "cell_type": "code",
   "execution_count": null,
   "metadata": {},
   "outputs": [],
   "source": []
  }
 ],
 "metadata": {
  "kernelspec": {
   "display_name": "Python 3",
   "language": "python",
   "name": "python3"
  },
  "language_info": {
   "codemirror_mode": {
    "name": "ipython",
    "version": 3
   },
   "file_extension": ".py",
   "mimetype": "text/x-python",
   "name": "python",
   "nbconvert_exporter": "python",
   "pygments_lexer": "ipython3",
   "version": "3.6.3"
  }
 },
 "nbformat": 4,
 "nbformat_minor": 2
}
